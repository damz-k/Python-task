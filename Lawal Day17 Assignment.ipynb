{
 "cells": [
  {
   "cell_type": "markdown",
   "id": "8a6d663c-0972-44c1-8926-e347d42ec0bd",
   "metadata": {},
   "source": [
    "1.Define each data type, and give an example."
   ]
  },
  {
   "cell_type": "markdown",
   "id": "c4f9f4b0-3a57-4d88-aa2d-0aad44395af1",
   "metadata": {},
   "source": [
    "interger; this is a data type that contains numbers"
   ]
  },
  {
   "cell_type": "markdown",
   "id": "06dbe1c6-177e-46de-8c4f-eae1be4751f1",
   "metadata": {},
   "source": [
    "floating point; this is are numbers also but has decimal points"
   ]
  },
  {
   "cell_type": "markdown",
   "id": "6ced202e-4158-4b4a-a7c3-ff2ca6f73628",
   "metadata": {},
   "source": [
    "string; this is a data typoe that contain alphabets and can also contain numbers while enclose in a single or double quote"
   ]
  },
  {
   "cell_type": "markdown",
   "id": "17bf6613-c74c-4eaf-a62a-c8304f9a1e89",
   "metadata": {},
   "source": [
    "2.What data type is each value? Use the type function to verify"
   ]
  },
  {
   "cell_type": "markdown",
   "id": "ff989417-bb70-4ae7-852a-343f5a97b006",
   "metadata": {},
   "source": [
    "A.3 = interger"
   ]
  },
  {
   "cell_type": "code",
   "execution_count": 13,
   "id": "7ec941ca-c517-4e09-9a25-82b4c706dbc7",
   "metadata": {},
   "outputs": [
    {
     "data": {
      "text/plain": [
       "int"
      ]
     },
     "execution_count": 13,
     "metadata": {},
     "output_type": "execute_result"
    }
   ],
   "source": [
    "type(3)"
   ]
  },
  {
   "cell_type": "markdown",
   "id": "0005f740-554d-46c5-8c73-3bf45cb418f0",
   "metadata": {},
   "source": [
    "B.6.0 = floating point"
   ]
  },
  {
   "cell_type": "code",
   "execution_count": 16,
   "id": "4a4eb2e5-efcb-4121-b8c7-93d7f1ce773c",
   "metadata": {},
   "outputs": [
    {
     "data": {
      "text/plain": [
       "float"
      ]
     },
     "execution_count": 16,
     "metadata": {},
     "output_type": "execute_result"
    }
   ],
   "source": [
    "type(6.0)"
   ]
  },
  {
   "cell_type": "markdown",
   "id": "a44ef1b1-1fd0-4fca-9775-b19ba3386efa",
   "metadata": {},
   "source": [
    "C.4.5 = floating point"
   ]
  },
  {
   "cell_type": "code",
   "execution_count": 19,
   "id": "64a680d0-1f03-4654-a0ca-331ccfeab1e7",
   "metadata": {},
   "outputs": [
    {
     "data": {
      "text/plain": [
       "float"
      ]
     },
     "execution_count": 19,
     "metadata": {},
     "output_type": "execute_result"
    }
   ],
   "source": [
    "type(4.5)"
   ]
  },
  {
   "cell_type": "markdown",
   "id": "3f67f2e8-5877-4f72-adee-2cce34afc58e",
   "metadata": {},
   "source": [
    "D. \"hello\" = string"
   ]
  },
  {
   "cell_type": "code",
   "execution_count": 44,
   "id": "1cfb06d0-6dff-4e06-b8ab-81aff2c0265e",
   "metadata": {},
   "outputs": [
    {
     "data": {
      "text/plain": [
       "str"
      ]
     },
     "execution_count": 44,
     "metadata": {},
     "output_type": "execute_result"
    }
   ],
   "source": [
    "type(\"hello\")"
   ]
  },
  {
   "cell_type": "markdown",
   "id": "f4bb1641-2851-48b5-90d6-60fc13630490",
   "metadata": {},
   "source": [
    "E. \"3.14159\" = string"
   ]
  },
  {
   "cell_type": "code",
   "execution_count": 47,
   "id": "0715f78b-ef82-448b-9b7e-0795ed456730",
   "metadata": {},
   "outputs": [
    {
     "data": {
      "text/plain": [
       "str"
      ]
     },
     "execution_count": 47,
     "metadata": {},
     "output_type": "execute_result"
    }
   ],
   "source": [
    "type(\"3.141579\")"
   ]
  },
  {
   "cell_type": "markdown",
   "id": "56984e56-4e9c-4933-887f-eb47e593364b",
   "metadata": {},
   "source": [
    "F. math.pi = floating point"
   ]
  },
  {
   "cell_type": "code",
   "execution_count": 56,
   "id": "d8853a0a-89c9-42fb-9046-0f3bd095fd7f",
   "metadata": {},
   "outputs": [
    {
     "ename": "NameError",
     "evalue": "name 'math' is not defined",
     "output_type": "error",
     "traceback": [
      "\u001b[0;31m---------------------------------------------------------------------------\u001b[0m",
      "\u001b[0;31mNameError\u001b[0m                                 Traceback (most recent call last)",
      "Cell \u001b[0;32mIn[56], line 1\u001b[0m\n\u001b[0;32m----> 1\u001b[0m \u001b[38;5;28mtype\u001b[39m(math\u001b[38;5;241m.\u001b[39mpi)\n",
      "\u001b[0;31mNameError\u001b[0m: name 'math' is not defined"
     ]
    }
   ],
   "source": [
    "type(math.pi)"
   ]
  },
  {
   "cell_type": "markdown",
   "id": "7be8f6ad-4a79-424d-b030-b7ecd523dc2f",
   "metadata": {},
   "source": [
    "3.Use the type function to identify the data type of each result. Are there any that do not work?"
   ]
  },
  {
   "cell_type": "code",
   "execution_count": 59,
   "id": "fbcbce05-d40c-416e-b5ed-199121cc1742",
   "metadata": {},
   "outputs": [
    {
     "data": {
      "text/plain": [
       "10"
      ]
     },
     "execution_count": 59,
     "metadata": {},
     "output_type": "execute_result"
    }
   ],
   "source": [
    "3+7"
   ]
  },
  {
   "cell_type": "code",
   "execution_count": 35,
   "id": "f1142945-ad6b-4c18-99a1-95567167122d",
   "metadata": {},
   "outputs": [
    {
     "data": {
      "text/plain": [
       "int"
      ]
     },
     "execution_count": 35,
     "metadata": {},
     "output_type": "execute_result"
    }
   ],
   "source": [
    "type(10)"
   ]
  },
  {
   "cell_type": "code",
   "execution_count": 37,
   "id": "b8aa037e-4bbe-4c96-9d37-2730560ba11e",
   "metadata": {},
   "outputs": [
    {
     "data": {
      "text/plain": [
       "2.0"
      ]
     },
     "execution_count": 37,
     "metadata": {},
     "output_type": "execute_result"
    }
   ],
   "source": [
    "6/3.0"
   ]
  },
  {
   "cell_type": "code",
   "execution_count": 39,
   "id": "585500ec-a255-459f-89cf-e3188b429d6c",
   "metadata": {},
   "outputs": [
    {
     "data": {
      "text/plain": [
       "float"
      ]
     },
     "execution_count": 39,
     "metadata": {},
     "output_type": "execute_result"
    }
   ],
   "source": [
    "type(2.0)"
   ]
  },
  {
   "cell_type": "code",
   "execution_count": 61,
   "id": "e845e730-7cf9-4204-acbe-6eb21fd5b1bc",
   "metadata": {},
   "outputs": [
    {
     "data": {
      "text/plain": [
       "11.0"
      ]
     },
     "execution_count": 61,
     "metadata": {},
     "output_type": "execute_result"
    }
   ],
   "source": [
    "5+6.0"
   ]
  },
  {
   "cell_type": "code",
   "execution_count": 63,
   "id": "346745a6-1fd1-4298-b4a4-6a06a46a4a94",
   "metadata": {},
   "outputs": [
    {
     "data": {
      "text/plain": [
       "float"
      ]
     },
     "execution_count": 63,
     "metadata": {},
     "output_type": "execute_result"
    }
   ],
   "source": [
    "type(11.0)"
   ]
  },
  {
   "cell_type": "code",
   "execution_count": 65,
   "id": "76ee6bfa-56da-4c98-bb85-d54cf6f1f406",
   "metadata": {},
   "outputs": [
    {
     "data": {
      "text/plain": [
       "2.0"
      ]
     },
     "execution_count": 65,
     "metadata": {},
     "output_type": "execute_result"
    }
   ],
   "source": [
    "6.0//3.0"
   ]
  },
  {
   "cell_type": "code",
   "execution_count": 67,
   "id": "e4d3edd3-7598-4d30-8234-94a9645ab3c6",
   "metadata": {},
   "outputs": [
    {
     "data": {
      "text/plain": [
       "float"
      ]
     },
     "execution_count": 67,
     "metadata": {},
     "output_type": "execute_result"
    }
   ],
   "source": [
    "type(2.0)"
   ]
  },
  {
   "cell_type": "code",
   "execution_count": 69,
   "id": "7f9f667d-c0d3-40ce-af74-a815f8f40bcd",
   "metadata": {},
   "outputs": [
    {
     "data": {
      "text/plain": [
       "'python'"
      ]
     },
     "execution_count": 69,
     "metadata": {},
     "output_type": "execute_result"
    }
   ],
   "source": [
    "\"py\" + \"thon\""
   ]
  },
  {
   "cell_type": "code",
   "execution_count": 71,
   "id": "628cbff4-55a2-470c-a06b-d21860fabc10",
   "metadata": {},
   "outputs": [
    {
     "data": {
      "text/plain": [
       "str"
      ]
     },
     "execution_count": 71,
     "metadata": {},
     "output_type": "execute_result"
    }
   ],
   "source": [
    "type('python')"
   ]
  },
  {
   "cell_type": "code",
   "execution_count": 73,
   "id": "50f6bb79-e335-4796-9ddb-d8b18be4f630",
   "metadata": {},
   "outputs": [
    {
     "ename": "TypeError",
     "evalue": "can only concatenate str (not \"int\") to str",
     "output_type": "error",
     "traceback": [
      "\u001b[0;31m---------------------------------------------------------------------------\u001b[0m",
      "\u001b[0;31mTypeError\u001b[0m                                 Traceback (most recent call last)",
      "Cell \u001b[0;32mIn[73], line 1\u001b[0m\n\u001b[0;32m----> 1\u001b[0m \u001b[38;5;124m\"\u001b[39m\u001b[38;5;124mHigh\u001b[39m\u001b[38;5;124m\"\u001b[39m \u001b[38;5;241m+\u001b[39m \u001b[38;5;241m5\u001b[39m\n",
      "\u001b[0;31mTypeError\u001b[0m: can only concatenate str (not \"int\") to str"
     ]
    }
   ],
   "source": [
    "\"High\" + 5"
   ]
  },
  {
   "cell_type": "code",
   "execution_count": 75,
   "id": "86e1abb5-553f-4d8d-92e8-9343d75ae039",
   "metadata": {},
   "outputs": [
    {
     "data": {
      "text/plain": [
       "str"
      ]
     },
     "execution_count": 75,
     "metadata": {},
     "output_type": "execute_result"
    }
   ],
   "source": [
    "type(\"High + 5\")"
   ]
  },
  {
   "cell_type": "markdown",
   "id": "6235ed27-be55-4eca-ae59-2f4a484f0095",
   "metadata": {},
   "source": [
    "4. Which variable names are acceptable, and which are not? If a variable name is unacceptable, explain why"
   ]
  },
  {
   "cell_type": "markdown",
   "id": "ed57e646-128a-45d9-ba8b-09885e820788",
   "metadata": {},
   "source": [
    "A. num = Accepted"
   ]
  },
  {
   "cell_type": "markdown",
   "id": "2da8a0b3-2da1-4717-a1c5-ebaf0fb38b52",
   "metadata": {},
   "source": [
    "B. Age = Accepted"
   ]
  },
  {
   "cell_type": "markdown",
   "id": "92421e1d-f4cc-4c51-b401-34fb99c17bc7",
   "metadata": {},
   "source": [
    "c. FiRsTnAmE = Accepted "
   ]
  },
  {
   "cell_type": "markdown",
   "id": "f4514e42-ff91-4a57-b117-0541d719e737",
   "metadata": {},
   "source": [
    "D. _count = Accepted"
   ]
  },
  {
   "cell_type": "markdown",
   "id": "f5ae4574-449f-4e6a-83d0-c933cae2de0d",
   "metadata": {},
   "source": [
    "E. 2nd_card = Not Accepted cause it starts with a number"
   ]
  },
  {
   "cell_type": "markdown",
   "id": "e78a5cd3-91c8-446b-9db2-6f86fa25c445",
   "metadata": {},
   "source": [
    "F. card_2 = Accepted"
   ]
  },
  {
   "cell_type": "markdown",
   "id": "9890ed2f-a679-4b62-8293-25fd4eec2a47",
   "metadata": {},
   "source": [
    "G. card 2 = Not Accepted cause its contains space and its not in a quote"
   ]
  },
  {
   "cell_type": "markdown",
   "id": "13795c61-be23-4fd5-a783-2263642c7199",
   "metadata": {},
   "source": [
    "H. lambda = Not Accepted, its a reverse keyword in python"
   ]
  },
  {
   "cell_type": "markdown",
   "id": "2a555a8a-64c6-4d19-a67b-bb8a2f46764e",
   "metadata": {},
   "source": [
    "5. Choose a meaningful variable name to represent each scenario"
   ]
  },
  {
   "cell_type": "code",
   "execution_count": 231,
   "id": "4e23ca77-2da7-4f2a-a6ad-6d642a78e87e",
   "metadata": {},
   "outputs": [],
   "source": [
    "Player_card = \"The number of cards dealt to a player.\""
   ]
  },
  {
   "cell_type": "code",
   "execution_count": 235,
   "id": "a32707f9-4458-4d3c-bb3c-83c4c11861d8",
   "metadata": {},
   "outputs": [],
   "source": [
    "montly_salary = \"An employee's monthly salary.\""
   ]
  },
  {
   "cell_type": "code",
   "execution_count": 237,
   "id": "2127b87c-7892-4ca6-a67c-e5fad6ad6520",
   "metadata": {},
   "outputs": [],
   "source": [
    "dice2 = \"The sum of the values rolled by two dice.\""
   ]
  },
  {
   "cell_type": "code",
   "execution_count": 239,
   "id": "068cf796-1e02-4471-b727-9a503b93fbb4",
   "metadata": {},
   "outputs": [],
   "source": [
    "weather_condition = \"The temperature on a hot summer day.\""
   ]
  },
  {
   "cell_type": "markdown",
   "id": "42298037-3773-4cae-ba46-3019a0b984e2",
   "metadata": {},
   "source": [
    "6. Assign the values x=\"house\"\n",
    ", y=\"boat\" and z=\"ha\"\n",
    ". What is the result of each statement? Which do not work, and why"
   ]
  },
  {
   "cell_type": "code",
   "execution_count": 94,
   "id": "60e6dbcb-4a2d-4841-accb-4b580dbc71e7",
   "metadata": {},
   "outputs": [],
   "source": [
    "x = \"house\""
   ]
  },
  {
   "cell_type": "code",
   "execution_count": 96,
   "id": "59506ce7-cfed-4e61-8e49-4a53baf92253",
   "metadata": {},
   "outputs": [],
   "source": [
    "y = \"boat\""
   ]
  },
  {
   "cell_type": "code",
   "execution_count": 98,
   "id": "cc5604e7-0d85-453e-bff0-56d60892c669",
   "metadata": {},
   "outputs": [],
   "source": [
    "z = \"ha\""
   ]
  },
  {
   "cell_type": "code",
   "execution_count": 100,
   "id": "209184a5-1332-4593-bf8c-86b582b73bd5",
   "metadata": {},
   "outputs": [
    {
     "data": {
      "text/plain": [
       "'houseboat'"
      ]
     },
     "execution_count": 100,
     "metadata": {},
     "output_type": "execute_result"
    }
   ],
   "source": [
    "x+y"
   ]
  },
  {
   "cell_type": "code",
   "execution_count": 102,
   "id": "4ddea895-79ed-4d88-b0b8-9bf8fc0fcf45",
   "metadata": {},
   "outputs": [
    {
     "data": {
      "text/plain": [
       "'boathouse'"
      ]
     },
     "execution_count": 102,
     "metadata": {},
     "output_type": "execute_result"
    }
   ],
   "source": [
    "y+x"
   ]
  },
  {
   "cell_type": "code",
   "execution_count": 104,
   "id": "3e1a665c-15d9-4fcb-abb1-36e63a3b07e0",
   "metadata": {},
   "outputs": [
    {
     "data": {
      "text/plain": [
       "'hahaha'"
      ]
     },
     "execution_count": 104,
     "metadata": {},
     "output_type": "execute_result"
    }
   ],
   "source": [
    "z*3"
   ]
  },
  {
   "cell_type": "markdown",
   "id": "85768a3f-8d26-48ed-bd8d-f3866919d0aa",
   "metadata": {},
   "source": [
    "z*x = error cause variables assign cannot multiply string"
   ]
  },
  {
   "cell_type": "markdown",
   "id": "278cbae1-b6af-47aa-91f0-091f5fc511b2",
   "metadata": {},
   "source": [
    "7. Assign the values base=10 and height=5. Calculate the area of a triangle using the formula\n",
    "1\n",
    "At =\n",
    "2 ( b)(h) , and assign the value to the variable area. Echo this value."
   ]
  },
  {
   "cell_type": "code",
   "execution_count": 173,
   "id": "a9717e21-0bab-4610-b2b8-de622eef8062",
   "metadata": {},
   "outputs": [],
   "source": [
    "b = 10"
   ]
  },
  {
   "cell_type": "code",
   "execution_count": 171,
   "id": "91ebb968-6f12-4ecd-be0b-1cb353d0c446",
   "metadata": {},
   "outputs": [],
   "source": [
    "h = 5"
   ]
  },
  {
   "cell_type": "code",
   "execution_count": null,
   "id": "da1b8793-6fb9-4843-9733-ffd589d214a1",
   "metadata": {},
   "outputs": [],
   "source": []
  },
  {
   "cell_type": "code",
   "execution_count": 195,
   "id": "3606f544-a4d5-4e03-a13d-a1a3547860ca",
   "metadata": {},
   "outputs": [],
   "source": [
    "Area = A"
   ]
  },
  {
   "cell_type": "code",
   "execution_count": 223,
   "id": "a3ffc80a-8832-47ac-9813-eb215785d99d",
   "metadata": {},
   "outputs": [],
   "source": [
    "A = 1/2 * b * h"
   ]
  },
  {
   "cell_type": "code",
   "execution_count": null,
   "id": "101ca9f2-eaaa-40e8-910e-7fd29082a6f1",
   "metadata": {},
   "outputs": [],
   "source": []
  },
  {
   "cell_type": "code",
   "execution_count": 225,
   "id": "4d0fa017-c46f-4324-b135-be0e09748d61",
   "metadata": {},
   "outputs": [
    {
     "data": {
      "text/plain": [
       "25.0"
      ]
     },
     "execution_count": 225,
     "metadata": {},
     "output_type": "execute_result"
    }
   ],
   "source": [
    "A"
   ]
  },
  {
   "cell_type": "markdown",
   "id": "d12b3311-bb48-4c89-840b-47d5acc7fb2f",
   "metadata": {},
   "source": [
    "8. Execute the following sequence of commands in the shell, then state the final value of k."
   ]
  },
  {
   "cell_type": "code",
   "execution_count": 241,
   "id": "dee6c1b0-60b1-4fc4-9c35-918fe1b961b0",
   "metadata": {},
   "outputs": [],
   "source": [
    "k = 7"
   ]
  },
  {
   "cell_type": "code",
   "execution_count": 243,
   "id": "2fe92845-82eb-4c95-9e60-583062b8d9f5",
   "metadata": {},
   "outputs": [
    {
     "data": {
      "text/plain": [
       "7"
      ]
     },
     "execution_count": 243,
     "metadata": {},
     "output_type": "execute_result"
    }
   ],
   "source": [
    "k"
   ]
  },
  {
   "cell_type": "code",
   "execution_count": 245,
   "id": "9c87e5a5-a691-4eb8-a2ab-1be21d07a031",
   "metadata": {},
   "outputs": [],
   "source": [
    "k += 3"
   ]
  },
  {
   "cell_type": "code",
   "execution_count": 247,
   "id": "28d17fa4-661e-4731-8458-a90a564bc55f",
   "metadata": {},
   "outputs": [
    {
     "data": {
      "text/plain": [
       "10"
      ]
     },
     "execution_count": 247,
     "metadata": {},
     "output_type": "execute_result"
    }
   ],
   "source": [
    "k"
   ]
  },
  {
   "cell_type": "code",
   "execution_count": 249,
   "id": "5c18766e-8fef-44c4-85a1-d0db6d353dc5",
   "metadata": {},
   "outputs": [],
   "source": [
    "k *= 2"
   ]
  },
  {
   "cell_type": "code",
   "execution_count": 251,
   "id": "cbb5e02f-090a-425e-8eaf-a08051635ed4",
   "metadata": {},
   "outputs": [
    {
     "data": {
      "text/plain": [
       "20"
      ]
     },
     "execution_count": 251,
     "metadata": {},
     "output_type": "execute_result"
    }
   ],
   "source": [
    "k"
   ]
  },
  {
   "cell_type": "code",
   "execution_count": 253,
   "id": "634301c4-0c99-4cc4-9824-82bb76374561",
   "metadata": {},
   "outputs": [],
   "source": [
    "k -= 5"
   ]
  },
  {
   "cell_type": "code",
   "execution_count": 255,
   "id": "56dc21ad-a6c4-41d5-bece-2a8d54ab751c",
   "metadata": {},
   "outputs": [
    {
     "data": {
      "text/plain": [
       "15"
      ]
     },
     "execution_count": 255,
     "metadata": {},
     "output_type": "execute_result"
    }
   ],
   "source": [
    "k"
   ]
  },
  {
   "cell_type": "code",
   "execution_count": 257,
   "id": "16a7f220-c4c4-4851-bf2c-61706287e3d8",
   "metadata": {},
   "outputs": [],
   "source": [
    "k //= 6"
   ]
  },
  {
   "cell_type": "code",
   "execution_count": 267,
   "id": "45967082-9da1-4bdc-a422-68cf03a1999a",
   "metadata": {},
   "outputs": [
    {
     "data": {
      "text/plain": [
       "2"
      ]
     },
     "execution_count": 267,
     "metadata": {},
     "output_type": "execute_result"
    }
   ],
   "source": [
    "k"
   ]
  },
  {
   "cell_type": "markdown",
   "id": "5cd1b7a4-7775-4826-b6e5-2cc439d0582b",
   "metadata": {},
   "source": [
    "9. Explain why the following run-time error occurs."
   ]
  },
  {
   "cell_type": "code",
   "execution_count": 276,
   "id": "0a1d88a5-fa68-4bc5-9f0c-31ea7d5e0d3a",
   "metadata": {},
   "outputs": [],
   "source": [
    ">>> number = 8"
   ]
  },
  {
   "cell_type": "code",
   "execution_count": 278,
   "id": "6240a118-3785-4caf-86ac-a6d2b2fc0f3e",
   "metadata": {},
   "outputs": [
    {
     "ename": "NameError",
     "evalue": "name 'Number' is not defined",
     "output_type": "error",
     "traceback": [
      "\u001b[0;31m---------------------------------------------------------------------------\u001b[0m",
      "\u001b[0;31mNameError\u001b[0m                                 Traceback (most recent call last)",
      "Cell \u001b[0;32mIn[278], line 1\u001b[0m\n\u001b[0;32m----> 1\u001b[0m Number \u001b[38;5;241m+\u001b[39m\u001b[38;5;241m=\u001b[39m \u001b[38;5;241m1\u001b[39m\n",
      "\u001b[0;31mNameError\u001b[0m: name 'Number' is not defined"
     ]
    }
   ],
   "source": [
    ">>> Number += 1"
   ]
  },
  {
   "cell_type": "markdown",
   "id": "9ebe047b-bd7d-4d0e-a36c-4e5d9bd9d258",
   "metadata": {},
   "source": [
    "Ans. Python does not recognize the number that starts with upper case cause phyton is case sensitive"
   ]
  },
  {
   "cell_type": "markdown",
   "id": "6c0aa6f5-a2b5-4fbb-9da1-be8a715248b4",
   "metadata": {},
   "source": [
    "10. Python is a dynamically-typed language: a variable’s data type can change as necessary. Assign the\n",
    "value x=4, then use check its type using the type function. What data type is it? Increment x by 1,\n",
    "using the += operator, then check its type again. Did it change? If so, what data type is it?\n",
    "Increment x by 1.0, then check its type. Did it change? If so, what data type is it?"
   ]
  },
  {
   "cell_type": "code",
   "execution_count": 282,
   "id": "6ada965f-f703-4f74-8a88-32cc61d59633",
   "metadata": {},
   "outputs": [],
   "source": [
    "x = 4"
   ]
  },
  {
   "cell_type": "code",
   "execution_count": 284,
   "id": "dd233ea4-3f5b-4a30-81fe-13bd27fed78b",
   "metadata": {},
   "outputs": [
    {
     "data": {
      "text/plain": [
       "int"
      ]
     },
     "execution_count": 284,
     "metadata": {},
     "output_type": "execute_result"
    }
   ],
   "source": [
    "type(x)"
   ]
  },
  {
   "cell_type": "code",
   "execution_count": 286,
   "id": "65f9a21d-432d-4201-a06d-0f580b658b7f",
   "metadata": {},
   "outputs": [
    {
     "data": {
      "text/plain": [
       "int"
      ]
     },
     "execution_count": 286,
     "metadata": {},
     "output_type": "execute_result"
    }
   ],
   "source": [
    "type(4)"
   ]
  },
  {
   "cell_type": "code",
   "execution_count": 288,
   "id": "e3f5e75b-767b-4a73-96b9-45a5bb646284",
   "metadata": {},
   "outputs": [],
   "source": [
    "x += 1"
   ]
  },
  {
   "cell_type": "code",
   "execution_count": 290,
   "id": "ffec8792-2a49-4227-9637-6621e8db52f1",
   "metadata": {},
   "outputs": [
    {
     "data": {
      "text/plain": [
       "5"
      ]
     },
     "execution_count": 290,
     "metadata": {},
     "output_type": "execute_result"
    }
   ],
   "source": [
    "x"
   ]
  },
  {
   "cell_type": "markdown",
   "id": "4e264f82-ff23-4674-917b-6c66448acee2",
   "metadata": {},
   "source": [
    "type(x)"
   ]
  },
  {
   "cell_type": "code",
   "execution_count": 296,
   "id": "7a33dada-bc2b-48c1-8125-e1d893829b1d",
   "metadata": {},
   "outputs": [
    {
     "data": {
      "text/plain": [
       "int"
      ]
     },
     "execution_count": 296,
     "metadata": {},
     "output_type": "execute_result"
    }
   ],
   "source": [
    "type(x)"
   ]
  },
  {
   "cell_type": "markdown",
   "id": "d165ffa0-32fa-4405-97f9-bf6439608acd",
   "metadata": {},
   "source": [
    "ans. no it didnt change and its an interger"
   ]
  },
  {
   "cell_type": "markdown",
   "id": "6c8ef699-8a2b-407c-a224-78e73e71f96c",
   "metadata": {},
   "source": [
    "Ans. No it didnt change and its an interger"
   ]
  },
  {
   "cell_type": "code",
   "execution_count": 299,
   "id": "8d0e36a8-9595-4bb3-8885-bc5453718650",
   "metadata": {},
   "outputs": [],
   "source": [
    "x += 0.5"
   ]
  },
  {
   "cell_type": "code",
   "execution_count": 301,
   "id": "c2b722d0-180f-45ff-8f2e-eb955661b727",
   "metadata": {},
   "outputs": [
    {
     "data": {
      "text/plain": [
       "5.5"
      ]
     },
     "execution_count": 301,
     "metadata": {},
     "output_type": "execute_result"
    }
   ],
   "source": [
    "x"
   ]
  },
  {
   "cell_type": "code",
   "execution_count": 303,
   "id": "e44b66dc-1831-476d-8ed4-39e6f30f5e1b",
   "metadata": {},
   "outputs": [
    {
     "data": {
      "text/plain": [
       "float"
      ]
     },
     "execution_count": 303,
     "metadata": {},
     "output_type": "execute_result"
    }
   ],
   "source": [
    "type(x)"
   ]
  },
  {
   "cell_type": "markdown",
   "id": "8fb3d7a5-8eef-417f-b908-e0cff92328f0",
   "metadata": {},
   "source": [
    "Ans. Yes it changed and its a float "
   ]
  },
  {
   "cell_type": "code",
   "execution_count": null,
   "id": "b92fd5cb-7cd8-4add-b223-967975985445",
   "metadata": {},
   "outputs": [],
   "source": []
  }
 ],
 "metadata": {
  "kernelspec": {
   "display_name": "Python 3 (ipykernel)",
   "language": "python",
   "name": "python3"
  },
  "language_info": {
   "codemirror_mode": {
    "name": "ipython",
    "version": 3
   },
   "file_extension": ".py",
   "mimetype": "text/x-python",
   "name": "python",
   "nbconvert_exporter": "python",
   "pygments_lexer": "ipython3",
   "version": "3.12.7"
  }
 },
 "nbformat": 4,
 "nbformat_minor": 5
}
